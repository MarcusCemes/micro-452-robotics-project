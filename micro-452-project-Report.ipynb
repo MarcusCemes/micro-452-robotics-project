{
 "cells": [
  {
   "cell_type": "markdown",
   "id": "d38ad9a1",
   "metadata": {},
   "source": [
    "# <a id='toc1_'></a>[Mobile Robotics Project Report](#toc0_)\n",
    "\n",
    "---\n",
    "Marcus Cemes, Pable Paller, Adrien Pannatier,  Carolina Rodrigues Fidalgo"
   ]
  },
  {
   "cell_type": "markdown",
   "id": "65a741a9",
   "metadata": {},
   "source": [
    "\n",
    "<div style=\"border:1px solid black; padding:20px 20px;text-align: justify;text-justify: inter-word\">\n",
    "    This notebook describes the different parts of our project for the course micro-452: Basics of mobile robotics.<br/>\n",
    "    In the following cells we will describe how the modules work and give a structure to run the project.\n",
    "</div>"
   ]
  },
  {
   "cell_type": "markdown",
   "id": "f91923f5",
   "metadata": {},
   "source": [
    "**Table of contents**<a id='toc0_'></a>    \n",
    "- [Mobile Robotics Project Report](#toc1_)    \n",
    "  - [Run requirements](#toc1_1_)    \n",
    "  - [Add the modules to path](#toc1_2_)    \n",
    "  - [Vision](#toc1_3_)    \n",
    "  - [Filtering](#toc1_4_)    \n",
    "    - [Prediction](#toc1_4_1_)    \n",
    "    - [Update](#toc1_4_2_)    \n",
    "  - [Global navigation](#toc1_5_)    \n",
    "  - [Big Brain](#toc1_6_)    \n",
    "  - [Motion control](#toc1_7_)    \n",
    "  - [Local navigation](#toc1_8_)    \n",
    "  - [Running the program as a whole](#toc1_9_)    \n",
    "\n",
    "<!-- vscode-jupyter-toc-config\n",
    "\tnumbering=false\n",
    "\tanchor=true\n",
    "\tflat=false\n",
    "\tminLevel=1\n",
    "\tmaxLevel=6\n",
    "\t/vscode-jupyter-toc-config -->\n",
    "<!-- THIS CELL WILL BE REPLACED ON TOC UPDATE. DO NOT WRITE YOUR TEXT IN THIS CELL -->"
   ]
  },
  {
   "cell_type": "markdown",
   "id": "816f8151",
   "metadata": {},
   "source": [
    "## <a id='toc1_1_'></a>[Run requirements](#toc0_)"
   ]
  },
  {
   "attachments": {},
   "cell_type": "markdown",
   "id": "a2ed8216",
   "metadata": {},
   "source": [
    "All instructions to run the project are to be found in the [README.md](README.md)."
   ]
  },
  {
   "cell_type": "markdown",
   "id": "4456d199",
   "metadata": {},
   "source": [
    "## <a id='toc1_2_'></a>[Add the modules to path](#toc0_)\n",
    "\n",
    "The following trickery adds our Python module to the Jupyter environment."
   ]
  },
  {
   "cell_type": "code",
   "execution_count": null,
   "id": "92df5d13-08df-49fe-90dd-3e0485a0fead",
   "metadata": {},
   "outputs": [],
   "source": [
    "from sys import path\n",
    "path.append(\"./app\")\n",
    "path.append(\"./report\")"
   ]
  },
  {
   "cell_type": "markdown",
   "id": "9e888bff-0b12-4694-a4b3-0a9b3ec5024a",
   "metadata": {},
   "source": [
    "Let's also import some useful libraries for this notebook."
   ]
  },
  {
   "cell_type": "code",
   "execution_count": null,
   "id": "a2a95436-6c5a-4c20-a856-f09d96e45597",
   "metadata": {},
   "outputs": [],
   "source": [
    "import asyncio\n",
    "import numpy as np\n",
    "import matplotlib.pyplot as plt\n",
    "\n",
    "from ipywidgets import interact, interactive, fixed, interact_manual\n",
    "import ipywidgets as widgets"
   ]
  },
  {
   "cell_type": "markdown",
   "id": "baa8a325-c975-4893-8385-2b0f95ebf97e",
   "metadata": {},
   "source": [
    "One of the main structures of our project is the context. Created to be shared between the modules, the context holds the following data:<br/>\n",
    "\n",
    "<span style=\"text-decoration:underline;font-weight:bold;\">[Context Class](app/context.py)</span>\n",
    "- <strong>node</strong>: node of the main thymio\n",
    "- <strong>node_top</strong>: node of the top thymio\n",
    "- <strong>pool</strong>: necessary part to allow multiple threading in python\n",
    "- <strong>state</strong>: state containing all the necessary elements to describe the scene\n",
    "- <strong>scene_update</strong>: signaling of scene update from vision\n",
    "- <strong>pose_update</strong>: signaling position update from filtering\n",
    "- <strong>debug_update</strong>: boolean to allow debugging vision display in the ui"
   ]
  },
  {
   "cell_type": "markdown",
   "id": "904c0a34",
   "metadata": {},
   "source": [
    "Let us create this context"
   ]
  },
  {
   "cell_type": "code",
   "execution_count": null,
   "id": "288a034d-dd0d-45b4-a5e7-3015ca4f4f9d",
   "metadata": {},
   "outputs": [],
   "source": [
    "from app.config import *\n",
    "from app.context import Context\n",
    "from app.state import State\n",
    "from report.mock_pool import MockPool\n",
    "import report.map\n",
    "import report.report_functions \n",
    "\n",
    "ctx = Context(node=None, node_top=None, pool=MockPool(), state=State())\n",
    "\n",
    "ctx.state.physical_size = PHYSICAL_SIZE_CM\n",
    "ctx.state.subdivisions = SUBDIVISIONS"
   ]
  },
  {
   "cell_type": "markdown",
   "id": "eb5a5f29",
   "metadata": {},
   "outputs": [
    {
     "data": {
      "image/png": "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",
      "text/plain": [
       "<Figure size 640x480 with 1 Axes>"
      ]
     },
     "metadata": {},
     "output_type": "display_data"
    }
   ],
   "source": [
    "The [State Class](app/state.py) holds the necessary information on the thymio to allow the correct progression of the robot.</br>\n",
    "State also contains the elements needed by the ui interface to display the scene. "
   ]
  },
  {
   "attachments": {},
   "cell_type": "markdown",
   "id": "3f7eb1ed",
   "metadata": {},
   "source": [
    "In order to visualise the state of the map without the use of the Web UI, we've written a `plot_map(ctx)` function that uses the matplotlib library."
   ]
  },
  {
   "cell_type": "code",
   "execution_count": null,
   "id": "960784ed",
   "metadata": {},
   "outputs": [],
   "source": [
    "report.map.plot_map(ctx, \"map of the scene\")"
   ]
  },
  {
   "cell_type": "markdown",
   "id": "a6e670b5",
   "metadata": {},
   "source": [
    "We can now import modules and show how they work!"
   ]
  },
  {
   "attachments": {},
   "cell_type": "markdown",
   "id": "663d573b",
   "metadata": {},
   "source": [
    "___\n",
    "## <a id='toc1_3_'></a>[Vision](#toc0_)"
   ]
  },
  {
   "cell_type": "code",
   "execution_count": null,
   "id": "5ffaf769",
   "metadata": {},
   "outputs": [],
   "source": [
    "from app.vision import Vision"
   ]
  },
  {
   "cell_type": "code",
   "execution_count": null,
   "id": "455561c9",
   "metadata": {},
   "outputs": [],
   "source": [
    "vision = Vision(ctx, external=False, live=False, image_path=\"assets/test_frame_01.jpg\")\n",
    "report.map.reset(ctx)"
   ]
  },
  {
   "cell_type": "code",
   "execution_count": null,
   "id": "bc89670d",
   "metadata": {},
   "outputs": [],
   "source": [
    "vision.calibrate()"
   ]
  },
  {
   "cell_type": "code",
   "execution_count": null,
   "id": "498a15ef",
   "metadata": {},
   "outputs": [],
   "source": [
    "obs = vision.next()"
   ]
  },
  {
   "cell_type": "code",
   "execution_count": null,
   "id": "2938f9fa",
   "metadata": {},
   "outputs": [],
   "source": [
    "vision_pose = (obs.back[0], obs.back[1], report.report_functions.angle(obs.back, obs.front))\n",
    "print(vision_pose)"
   ]
  },
  {
   "attachments": {},
   "cell_type": "markdown",
   "id": "939b1fc9",
   "metadata": {},
   "source": [
    "display the vision retranscription"
   ]
  },
  {
   "cell_type": "code",
   "execution_count": null,
   "id": "33b79a0c",
   "metadata": {},
   "outputs": [],
   "source": [
    "ctx.state.position = (obs.back[0], obs.back[1])\n",
    "ctx.state.orientation = report.report_functions.angle(obs.back, obs.front)\n",
    "ctx.state.obstacles = obs.obstacles"
   ]
  },
  {
   "cell_type": "code",
   "execution_count": null,
   "id": "9ed55e49",
   "metadata": {},
   "outputs": [],
   "source": [
    "report.map.plot_map(ctx, \"vision retranscription\")"
   ]
  },
  {
   "cell_type": "code",
   "execution_count": null,
   "id": "a5b89e0e",
   "metadata": {},
   "outputs": [],
   "source": [
    "report.map.show_picture(\"assets/test_frame_01.jpg\")"
   ]
  },
  {
   "cell_type": "code",
   "execution_count": null,
   "id": "4a0a234d",
   "metadata": {},
   "outputs": [],
   "source": [
    "report.map.plot_map(ctx, \"Vision Map\")"
   ]
  },
  {
   "cell_type": "markdown",
   "id": "f528a8e8",
   "metadata": {},
   "source": [
    "## <a id='toc1_4_'></a>[Filtering](#toc0_)"
   ]
  },
  {
   "attachments": {},
   "cell_type": "markdown",
   "id": "9184e358",
   "metadata": {},
   "source": [
    "Another important module of our project is filtering. Filtering is taking the information given by sensors and the camera to be able to guess where the thymio is on the map and where it's going.</br>\n",
    "For this project we decieded to use an [Extanded Kalman Filter](app/EXF.py) and an intermediate module called [filtering](app/filtering.py) to comunicate with the main module.</br>\n",
    "The EKF was chosen for its capability of predicting a non-linear evolution of the state and also to be able to dissociate information coming from the motors and information given by the camera.</br>\n",
    "For this purpose, two functions where used: [predict](#toc1_4_1_) and [update](#toc1_4_2_). We will come back to these parts in the subsections below.\n",
    "___\n"
   ]
  },
  {
   "attachments": {},
   "cell_type": "markdown",
   "id": "8262ce5f",
   "metadata": {},
   "source": [
    "first let's import the module "
   ]
  },
  {
   "cell_type": "code",
   "execution_count": null,
   "id": "a783d006-43b1-41db-9b4d-cea07e80d151",
   "metadata": {},
   "outputs": [],
   "source": [
    "from app.filtering import Filtering\n",
    "from asyncio import sleep"
   ]
  },
  {
   "cell_type": "code",
   "execution_count": null,
   "id": "79198013",
   "metadata": {},
   "outputs": [],
   "source": [
    "#run this cell to reset this section\n",
    "#creation of the filter\n",
    "filtering = Filtering(ctx)\n",
    "report.map.reset(ctx)\n",
    "report.report_functions.start_movement_simulation(filtering)"
   ]
  },
  {
   "cell_type": "markdown",
   "id": "8df9ac02",
   "metadata": {},
   "source": [
    "### <a id='toc1_4_1_'></a>[Prediction](#toc0_)"
   ]
  },
  {
   "attachments": {},
   "cell_type": "markdown",
   "id": "0727adbe",
   "metadata": {},
   "source": [
    "A specificity of our project is the time delay between camera and motor sensors. Since the motor sensors response is faster than the one from vision, what we do is predict the position of the robot with the motor sensors at a greater frequency than the update with vision information. The time interval between each prediction is dynamic and adapts to correctly predict each time the motor sensors send variables.\n",
    "\n",
    "The next position and orientation are then predicted.\n",
    "\n",
    "Let us run it to see how it works\n",
    "___"
   ]
  },
  {
   "cell_type": "markdown",
   "id": "64eea28e-738a-4ad9-9c3f-c5c355245e14",
   "metadata": {},
   "source": [
    "Let's take a look at our current position."
   ]
  },
  {
   "cell_type": "code",
   "execution_count": null,
   "id": "17073ea1",
   "metadata": {},
   "outputs": [],
   "source": [
    "report.report_functions.print_pose(ctx)"
   ]
  },
  {
   "cell_type": "code",
   "execution_count": null,
   "id": "ca6efbbe",
   "metadata": {},
   "outputs": [
    {
     "data": {
      "image/png": "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",
      "text/plain": [
       "<Figure size 640x480 with 1 Axes>"
      ]
     },
     "metadata": {},
     "output_type": "display_data"
    }
   ],
   "source": [
    "report.map.plot_map(ctx, \"Filtering Map\")"
   ]
  },
  {
   "attachments": {},
   "cell_type": "markdown",
   "id": "b1e8ca65-a9b1-4899-a710-2d010667779a",
   "metadata": {},
   "source": [
    "To execute a filtering step let's make the Thymio move forward:"
   ]
  },
  {
   "cell_type": "code",
   "execution_count": null,
   "id": "7764f84c-156b-4b85-ae62-e9dec4ff37e9",
   "metadata": {},
   "outputs": [],
   "source": [
    "filtering.process_event({\"motor.left.speed\": [100], \"motor.right.speed\": [100]})\n",
    "report.report_functions.stop_movement_simulation(filtering)"
   ]
  },
  {
   "attachments": {},
   "cell_type": "markdown",
   "id": "37ca19d6-98c8-48a9-9395-84acfb11daf6",
   "metadata": {},
   "source": [
    "The state should now be updated"
   ]
  },
  {
   "cell_type": "code",
   "execution_count": null,
   "id": "c973de18-b444-4774-ac4e-f7f84117f772",
   "metadata": {},
   "outputs": [],
   "source": [
    "report.report_functions.print_pose(ctx)\n",
    "report.map.plot_map(ctx, \"Filtering Map\")"
   ]
  },
  {
   "attachments": {},
   "cell_type": "markdown",
   "id": "4f19687a",
   "metadata": {},
   "source": [
    "Let's do it again, turning the robot this time"
   ]
  },
  {
   "cell_type": "code",
   "execution_count": null,
   "id": "8c5ccfa1",
   "metadata": {},
   "outputs": [],
   "source": [
    "filtering.process_event({\"motor.left.speed\": [50], \"motor.right.speed\": [-50]})\n",
    "report.report_functions.stop_movement_simulation(filtering)"
   ]
  },
  {
   "cell_type": "code",
   "execution_count": null,
   "id": "98537fd3",
   "metadata": {},
   "outputs": [],
   "source": [
    "report.report_functions.print_pose(ctx)\n",
    "report.map.plot_map(ctx, \"Filtering Map\")"
   ]
  },
  {
   "cell_type": "markdown",
   "id": "64d77519",
   "metadata": {},
   "source": [
    "we see that filtering is correctly predicting the progression of the simulated robot"
   ]
  },
  {
   "cell_type": "markdown",
   "id": "ccabfc0f",
   "metadata": {},
   "source": [
    "### <a id='toc1_4_2_'></a>[Update](#toc0_)"
   ]
  },
  {
   "attachments": {},
   "cell_type": "markdown",
   "id": "ed29ff62",
   "metadata": {},
   "source": [
    "To reduce the error caused by motors, vision must be used as much as possible. If vision is lost for a while, the update step brings back the Thymio to it's correct position taking into consideration the computed prediction since it's disapearing.\n",
    "___"
   ]
  },
  {
   "cell_type": "markdown",
   "id": "0c5211d6",
   "metadata": {},
   "source": [
    "now to display the update function, we use the image and position of the robot given by the [Vision module](#toc1_3_)   "
   ]
  },
  {
   "cell_type": "markdown",
   "id": "a2208520",
   "metadata": {},
   "source": [
    "The position after our prediction step is:"
   ]
  },
  {
   "cell_type": "code",
   "execution_count": null,
   "id": "155ea781",
   "metadata": {},
   "outputs": [],
   "source": [
    "report.report_functions.print_pose(ctx)"
   ]
  },
  {
   "cell_type": "markdown",
   "id": "12e43b13",
   "metadata": {},
   "source": [
    "now we update the position with the one given by vision"
   ]
  },
  {
   "cell_type": "code",
   "execution_count": null,
   "id": "bea0726a",
   "metadata": {},
   "outputs": [],
   "source": [
    "vision_position = vision #get image from vision\n",
    "filtering.update(vision_pose)"
   ]
  },
  {
   "cell_type": "markdown",
   "id": "fb21370f",
   "metadata": {},
   "source": [
    "after the vision update, the new position is:"
   ]
  },
  {
   "cell_type": "code",
   "execution_count": null,
   "id": "b098a5b0",
   "metadata": {},
   "outputs": [],
   "source": [
    "report.report_functions.print_pose(ctx)\n",
    "report.map.plot_map(ctx, \"Filtering Map\")"
   ]
  },
  {
   "cell_type": "markdown",
   "id": "edd6cf89",
   "metadata": {},
   "source": [
    "## <a id='toc1_5_'></a>[Global navigation](#toc0_)"
   ]
  },
  {
   "cell_type": "code",
   "execution_count": null,
   "id": "32fa2c9a-b7e0-4a09-8205-5c5f14549425",
   "metadata": {},
   "outputs": [],
   "source": [
    "import app.global_navigation\n",
    "\n",
    "global_nav = app.global_navigation.GlobalNavigation(ctx)\n",
    "\n",
    "# Reset the state related to path finding.\n",
    "# You can rerun this cell to reset this section.\n",
    "report.map.reset(ctx)"
   ]
  },
  {
   "attachments": {},
   "cell_type": "markdown",
   "id": "4fa05483-f170-4b17-aec4-a3f15709782f",
   "metadata": {},
   "source": [
    "At the moment our map is completely empty. In order to invoke our pathfinding algorithm, we need to set the <font color='red'>Thymio's position</font>  and a desired <font color='cyan'>end point</font>."
   ]
  },
  {
   "cell_type": "code",
   "execution_count": null,
   "id": "031257b3-5db9-4211-a549-bbf6ca99c3c2",
   "metadata": {},
   "outputs": [],
   "source": [
    "# Update the state\n",
    "ctx.state.position = (10, 10)\n",
    "ctx.state.end = (90, 110)\n",
    "\n",
    "# Recompute the path\n",
    "await global_nav._recompute_path()\n",
    "\n",
    "# Plot the result\n",
    "report.map.plot_map(ctx, \"Path-finding map\")"
   ]
  },
  {
   "cell_type": "markdown",
   "id": "a1862c56-0290-462f-bb49-6cf72c3c6be1",
   "metadata": {},
   "source": [
    "**🎉 We have a path!**\n",
    "\n",
    "Let's not celebrate yet, we can make this much more interesting. Our pathfinding uses an implementation of the [Dijkstra's algorithm](https://en.wikipedia.org/wiki/Dijkstra%27s_algorithm). While this may not be the most fastest or most efficient algorithm, it _does_ guarantee optimal results for a given graph.\n",
    "\n",
    "Our node graph is a grid of equaly spaced cells, where edges are made between directly adjacent cells and diagonal cells, with a cost of 1 and $\\sqrt{2}$, respectively. This allows our robot to also travel diagonally and avoid grid-like movement.\n",
    "\n",
    "<div align=\"center\" style=\"padding: 1rem 0;\">\n",
    "    <figure>\n",
    "        <img src=\"assets/report/dijkstra-nodes.png\" style=\"width: 8rem;\" />\n",
    "        <figcaption style=\"font-style: italic;\">Edges for a graph node to its adjacent nodes.</figcaption>\n",
    "    </figure>\n",
    "</div>\n",
    "\n",
    "Ideally, we would like all nodes to be connected to every other node, given that there is a line-of-sight between them, however this comes with a huge computational burden. This simple implementation (mixed with our path optimisation algorithm covered later) provides adequate results in roughly 50 ms for 64 subdivisions.\n",
    "\n",
    "Time for some obstacles! Obstacles come directly from the vision module as a matrix of 8-bit integers, where any value other an 0 represent an occupied cell. The size of the matrix coincides with the node graph, an occupied cell will mark a node as unvisitable.\n",
    "\n",
    "**Note:** While we could have also used a matrix of booleans, integers are slightly easier to work with and compose with other functions such as convolutions. Additionally, it has a smaller JSON serialisation footprint for sending over WebSockets to the Web UI."
   ]
  },
  {
   "cell_type": "code",
   "execution_count": null,
   "id": "0ce68b7b-0da6-4a1f-9831-4164dcae34fa",
   "metadata": {},
   "outputs": [],
   "source": [
    "# Reset the matrix\n",
    "ctx.state.obstacles[:,:] = 0\n",
    "\n",
    "# Add two obstacles\n",
    "ctx.state.obstacles[30:45, 40:55] = 1\n",
    "ctx.state.obstacles[20:30, 5: 20] = 1\n",
    "\n",
    "# Recompute the path\n",
    "await global_nav._recompute_path()\n",
    "\n",
    "# Plot the result\n",
    "report.map.plot_map(ctx, \"Path-finding map\")"
   ]
  },
  {
   "cell_type": "markdown",
   "id": "a41ad200-eee1-4a3d-9148-760c033a7b21",
   "metadata": {},
   "source": [
    "The dark-blue region represents the obstacles that we set. The cyan regions are the obstacle boundaries that are generated using a convolution of a circular kernel matrix."
   ]
  },
  {
   "cell_type": "code",
   "execution_count": null,
   "id": "f8f01aae-80a6-4476-b9dd-287c0007d226",
   "metadata": {},
   "outputs": [
    {
     "data": {
      "image/png": "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",
      "text/plain": [
       "<Figure size 640x480 with 2 Axes>"
      ]
     },
     "metadata": {},
     "output_type": "display_data"
    }
   ],
   "source": [
    "kernel = global_nav._safety_margin_kernel()\n",
    "\n",
    "report.map.plot_image(kernel, \"Obstacle boundary convolution kernel\", colourbar=True)"
   ]
  },
  {
   "cell_type": "markdown",
   "id": "916d9a38-5988-44e6-a868-db8a058f38e0",
   "metadata": {},
   "source": [
    "The boundary is equaly treated as unvisitable by the pathfinding algorith. This ensures that the Thymio does not hit any objects with its wheels as it's navigating the path. It a gap is too small, the Thymio will not try to fit through it."
   ]
  },
  {
   "cell_type": "code",
   "execution_count": null,
   "id": "5cc68a70-6455-42bf-a33f-f6299aeeb3cc",
   "metadata": {},
   "outputs": [
    {
     "data": {
      "image/png": "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",
      "text/plain": [
       "<Figure size 640x480 with 1 Axes>"
      ]
     },
     "metadata": {},
     "output_type": "display_data"
    }
   ],
   "source": [
    "# Reset the matrix\n",
    "ctx.state.obstacles[:,:] = 0\n",
    "\n",
    "# Add two obstacles with a gap\n",
    "ctx.state.obstacles[31:33, 15:29] = 1\n",
    "ctx.state.obstacles[31:33, 42:50] = 1\n",
    "\n",
    "# Recompute the path\n",
    "await global_nav._recompute_path()\n",
    "\n",
    "# Plot the result\n",
    "report.map.plot_map(ctx, \"Path-finding map\")"
   ]
  },
  {
   "cell_type": "markdown",
   "id": "1aca0e1b-d678-4d9b-9809-5d9d30964ef6",
   "metadata": {},
   "source": [
    "### Path optimisation"
   ]
  },
  {
   "cell_type": "markdown",
   "id": "fb8a7fc5-bff9-43ee-a8fd-d9624d349191",
   "metadata": {},
   "source": [
    "Our chosen node graph constraints our robots movements more or less to a grid, with the ability of also being able to move diagonally. This creates a lot of path waypoints, but also creates less natural-like movement.\n",
    "\n",
    "To combat this, we have an additional post-pathfinding step to iteratively try to reduce the path to as few waypoints as necessary that have free line of sight between them. This does not find the most optimal solution, but the results are more than adequate.\n",
    "\n",
    "The algorithm goes as follows:\n",
    "\n",
    "1. For $i = 2,...,M-1$, where $M$ is the number of waypoints\n",
    "2. Check whether there is a free line-of-sight between waypoints $w_{i-1}$ and $w_{i+1}$\n",
    "3. If yes, remove the waypoint $w_i$, otherwise consider the next waypoint $w_{i+1}$\n",
    "\n",
    "In order to calculate free line-of-sight, it's necessary to enumerate all map cells that the segment between $w_{i-1}$ and $w_{i+1}$ travels through to check their occupation status. This is done using an algorithm such as [Bresenham's line algorithm](https://en.wikipedia.org/wiki/Bresenham%27s_line_algorithm). We found an improved version that also uses integer-only math [here](https://playtechs.blogspot.com/2007/03/raytracing-on-grid.html)."
   ]
  },
  {
   "cell_type": "code",
   "execution_count": null,
   "id": "32bb9c40-6fda-40c1-8730-e0a7f0f7c175",
   "metadata": {},
   "outputs": [
    {
     "data": {
      "image/png": "iVBORw0KGgoAAAANSUhEUgAAAYUAAAGbCAYAAAAr/4yjAAAAOXRFWHRTb2Z0d2FyZQBNYXRwbG90bGliIHZlcnNpb24zLjUuMiwgaHR0cHM6Ly9tYXRwbG90bGliLm9yZy8qNh9FAAAACXBIWXMAAA9hAAAPYQGoP6dpAAAZNklEQVR4nO3de3CU9b3H8c/mfgExgYDcL/GgVERHEESKEBolAcUiarkqWEVbBaEjVdoREofBAWkHkVs7pokVatXotKgIBIsexBve8HTSE0UTjVIEQwLSkMRkn/MH5ntckpDNZbO392uGgTz57T7fLA6f/T2f3dXlOI4jAAAkRfh7AABA4CAUAACGUAAAGEIBAGAIBQCAIRQAAIZQAAAYQgEAYAgFAIAhFBDUBgwYoLlz5/p7jLPy94zjx4/X+PHjvV47dOhQ3w6EgEYoBIm8vDy5XC77FRUVpd69e2vu3Ln66quv/DLT9u3blZWV5Zdzo/UOHTqkrKwsffjhh/4eBQEoyt8DoGUeeughDRw4UFVVVXrrrbeUl5en119/Xf/85z8VFxfXobNs375dGzZs8GswFBUVKSKC5zZns2vXLo+vDx06pOzsbA0YMECXXnqpf4ZCwCIUgkxmZqZGjBghSbr99tvVrVs3rVq1Stu2bdPNN9/s5+maVltbK7fbrZiYmHa939jY2Ha9v1BSWVmphISEdn/MEdp4ihXkxo4dK0n69NNP7VhNTY2WLVum4cOHq0uXLkpMTNTYsWO1Z88eW+M4jgYMGKDrr7++wX1WVVWpS5cuuvPOO5s879y5c7VhwwZJ8risJUklJSVyuVxas2aN1q5dq9TUVMXGxqqwsNCr2eq53W49+uijuvjiixUXF6eUlBRlZGTo3XfftTVnXq+vv8y2b98+/epXv1JKSooSExM1depUHT16tMH9Z2VlqVevXkpISFBaWpoKCwu97gDWrFmjK6+8Ul27dlV8fLyGDx+u/Pz8Zm8nSR999JHGjRun+Ph49enTRytWrFBubq5cLpdKSko81m7cuFEXXXSRYmNj1atXL919992qqKjwWFPfBbz33nu66qqrlJCQoN/85jf2vfpO4dVXX9Xll18uSZo3b579veXl5XncX2FhodLS0pSQkKDevXtr9erVHt9/9dVX5XK59Mwzzyg7O1u9e/dW586ddeONN+r48eOqrq7WokWL1L17d3Xq1Enz5s1TdXW1V48N/IudQpCr/wckKSnJjp04cUKPP/64ZsyYoTvuuEPffvutcnJyNHHiRL3zzju69NJL5XK5NHv2bK1evVrHjh1TcnKy3f6FF17QiRMnNHv27CbPe+edd+rQoUMqKCjQk08+2eia3NxcVVVVaf78+YqNjVVycrJXs9X7+c9/rry8PGVmZur2229XbW2t9u7dq7feest2S01ZsGCBkpKStHz5cpWUlGjt2rW655579PTTT9uapUuXavXq1bruuus0ceJEHThwQBMnTlRVVdVZ77veo48+qilTpmjWrFmqqanRX//6V91000168cUXNXny5CZv99VXXyktLU0ul0tLly5VYmKiHn/88UZ3PVlZWcrOzlZ6erp+8YtfqKioSJs2bdL+/fu1b98+RUdH29qysjJlZmZq+vTpmj17tnr06NHg/oYMGaKHHnpIy5Yt0/z58+1JxZVXXmlrysvLlZGRoRtuuEE333yz8vPzdf/99+viiy9WZmamx/09/PDDio+P1wMPPKCDBw/qscceU3R0tCIiIlReXq6srCy7zDlw4EAtW7bMq8cWfuQgKOTm5jqSnN27dztHjx51SktLnfz8fCclJcWJjY11SktLbW1tba1TXV3tcfvy8nKnR48ezm233WbHioqKHEnOpk2bPNZOmTLFGTBggON2u88609133+009p9QcXGxI8k555xznCNHjnh8z9vZ/vGPfziSnIULFza4/x/O1b9/f+fWW2+1r+sfp/T0dI91ixcvdiIjI52KigrHcRzn8OHDTlRUlPPTn/7U476zsrIcSR732ZTKykqPr2tqapyhQ4c6EyZM8Dh+5owLFixwXC6X88EHH9ixsrIyJzk52ZHkFBcXO47jOEeOHHFiYmKca665xqmrq7O169evdyQ5f/rTn+zYuHHjHEnO5s2bG8w5btw4Z9y4cfb1/v37HUlObm5uo2slOX/+85/tWHV1tXPeeec506ZNs2N79uxxJDlDhw51ampq7PiMGTMcl8vlZGZmetzv6NGjnf79+zc4HwIPl4+CTHp6ulJSUtS3b1/deOONSkxM1LZt29SnTx9bExkZadeR3W63jh07ptraWo0YMULvv/++rRs8eLBGjRqlrVu32rFjx47p5Zdf1qxZs+xyUGtNmzZNKSkpHse8ne25556Ty+XS8uXLG9yvN3PNnz/fY93YsWNVV1enzz//XJL0yiuvqLa2Vr/85S89brdgwQKvf774+Hj7c3l5uY4fP66xY8d6/ByN2bFjh0aPHu2xK0pOTtasWbM81u3evVs1NTVatGiRR5l+xx136JxzztFLL73ksT42Nlbz5s3zev6mdOrUyWOXGBMTo5EjR+qzzz5rsPaWW27x2K2MGjVKjuPotttu81g3atQolZaWqra2ts3zwbcIhSCzYcMGFRQUKD8/X5MmTdI333zT6GWHJ554QsOGDVNcXJy6du2qlJQUvfTSSzp+/LjHultuuUX79u2zfyyfffZZfffdd5ozZ46k0/3E4cOHPX7V1dV5NevAgQMbPe7NbJ9++ql69erlcVmrJfr16+fxdf3ltfLyckmyn/f888/3WJecnOxxKe5sXnzxRV1xxRWKi4tTcnKyUlJStGnTpgaP8Zk+//zzBudtbJb6GS+44AKP4zExMRo0aJB9v17v3r3bpVTu06dPg+BNSkqyx+6Hznycu3TpIknq27dvg+Nut7vZxwb+RygEmZEjRyo9PV3Tpk3Ttm3bNHToUM2cOVMnT560NVu2bNHcuXOVmpqqnJwc7dixQwUFBZowYYLcbrfH/U2fPl3R0dG2W9iyZYtGjBhh/xC98cYb6tmzp8ev0tJSr2b94TPp1szWFpGRkY0ed9rp/z67d+9eTZkyRXFxcdq4caO2b9+ugoICzZw5s93O0VKNPd6t0ZLHrqm1vn784TsUzUEsMjJSDz/8sNLS0rR+/Xo98MADkqT8/HwNGjRIzz//vMczvsYuxSQnJ2vy5MnaunWrZs2apX379mnt2rX2/UsuuUQFBQUetznvvPMkeXcZ50zezpaamqqdO3c2KMHbS//+/SVJBw8e9NjRlJWVNfqM+EzPPfec4uLitHPnTo+dWm5urlfnPnjwYIPjZx6rn7GoqEiDBg2y4zU1NSouLlZ6enqz52pMWy8LIrSxUwhy48eP18iRI7V27Vp71Uz9s7QfPit7++239eabbzZ6H3PmzFFhYaGWLFmiyMhITZ8+3b6XlJSk9PR0j1/1b5JLTEyUpAYvjzwbb2ebNm2aHMdRdnZ2g/toj2ebP/nJTxQVFaVNmzZ5HF+/fr1Xt4+MjJTL5fK4lFZSUqK//e1vzd524sSJevPNNz3eUXzs2DGPbkc63R/FxMRo3bp1Hj9zTk6Ojh8/ftZXOJ1Na/7eED7YKYSAJUuW6KabblJeXp7uuusuXXvttXr++ec1depUTZ48WcXFxdq8ebN+9KMfeVxmqjd58mR17dpVzz77rDIzM9W9e3evzjt8+HBJ0sKFCzVx4sQGgdIYb2dLS0vTnDlztG7dOn3yySfKyMiQ2+3W3r17lZaWpnvuuacFj1BDPXr00L333qvf/e53mjJlijIyMnTgwAG9/PLL6tatW7PPpidPnqzf//73ysjI0MyZM3XkyBFt2LBB559/vj766KOz3vbXv/61tmzZoquvvloLFiywl6T269dPx44ds3OnpKRo6dKlys7OVkZGhqZMmaKioiJt3LhRl19++VlfMnw2qampOvfcc7V582Z17txZiYmJGjVqVJMdEMILO4UQcMMNNyg1NVVr1qxRXV2d5s6dq5UrV+rAgQNauHChdu7caV1BY2JiYvSzn/1Mkqxg9va8CxYs0I4dOzRnzhzNmDGj2du0ZLbc3Fw98sgjKi4u1pIlS7Ry5UqdOnXK4zX1bbFq1So9+OCD2r9/v+677z4dPHhQu3btkuM4zX5kyIQJE5STk6PDhw9r0aJFeuqpp7Rq1SpNnTq12fP27dtXe/bs0ZAhQ7Ry5UqtXbtWt956q71i54fnzsrK0vr16/XFF19o8eLFeuaZZzR//nzt2rXL41U/LREdHa0nnnhCkZGRuuuuuzRjxgy99tprrbovhB6XQ/MDSYsXL7Z/5BISEvw9jt9UVFQoKSlJK1as0G9/+9sOPfeiRYv0hz/8QSdPnmyyqAV8jZ0CVFVVpS1btmjatGlhFQinTp1qcKy+ZPf2o6bb69xlZWV68skn9eMf/5hAgF/RKYSxI0eOaPfu3crPz1dZWZnuvfdef4/UoZ5++mnl5eVp0qRJ6tSpk15//XU99dRTuuaaazRmzBifnnv06NEaP368hgwZoq+//lo5OTk6ceKEHnzwQZ+eF2gOoRDGCgsLNWvWLHXv3l3r1q0Lu49RHjZsmKKiorR69WqdOHHCyucVK1b4/NyTJk1Sfn6+/vjHP8rlcumyyy5TTk6OrrrqKp+fGzgbOgUAgKFTAAAYQgEAYFrQKXzsuykAAB1gcLMr2CkAAAyhAAAwhAIAwBAKAABDKAAADKEAADCEAgDAEAoAAEMoAAAMoQAAMIQCAMAQCgAAQygAAAyhAAAwhAIAwBAKAABDKAAADKEAADCEAgDAEAoAAEMoAAAMoQAAMIQCAMAQCgAAQygAAAyhAAAwhAIAwBAKAABDKAAADKEAADCEAgDAEAoAAEMoAAAMoQAAMIQCAMAQCgAAQygAAAyhAAAwhAIAwBAKAABDKAAADKEAADCEAgDAEAoAAEMoAAAMoQAAMIQCAMAQCgAAQygAAAyhAAAwhAIAwBAKAABDKAAADKEAADCEAgDAEAoAAEMoAAAMoQAAMIQCAMAQCgAAQygAAAyhAAAwhAIAwBAKAABDKAAADKEAADCEAgDAEAoAAEMoAAAMoQAAMIQCAMAQCgAAQygAAEyUvwdoi/h+y/09QlA49UW2v0cAECTYKQAADKEAADCEAgDAEAoAAEMoAAAMoQAAMIQCAMAQCgAAQygAAAyhAAAwhAIAwBAKAABDKAAATFB/SmpbRThujak+qp51Vfp3ZJz2xabI7SInAYSvsA2F6ytLtabiffWpO2XHvoyM133nXqa/J/T142QA4D9h+bT4+spS/aVsn3r9IBAkqVfdKf2lbJ+uryz102QA4F9hFwoRjltrKt4//eczv/f9749UfKAIx92hcwFAIAi7UBhTfVR96k41+YNHSOpbV6kx1Uc7ciwACAhhFwo966radR0AhJKwC4V/R8Z5ta7ivy6SKypse3gAYSrsQmFfbIq+jIxXU42BW9Khzt30P1ddp67XTlHcwIEdOR4A+FXYhYLbFaH7zr3s9J/P/N73v9/fc4xqKisVmZCgLqPHKHlihqK7devQOQHAH8IuFCTp7wl9NbPrGB2KjPc4/lVkgmZ2HaP8U/Eqe/EFffvB+3J/V6Port2UfE2Gulz5Y0UkJPhpagDwPZfjOI53Sz/27SStEN9veZtu7807miPi4pQ47BLFp54vl8slp7ZW//lXoSr/VSintrZN5+8op77I9vcIAALC4GZXhHUotETUuUnqPHyEYnr0kCTVVVbq5IEPVFVc3GEztBahAOC05kMhLC8ftUZtRbnKXylQxX+/ptqT39I3AAhJhEILVX9ZSt8AIGTxQvzWcLtV+a9CVRV/Zn1D3IABiu3TJ+j6BgD4IXYKbeCuqtK377ytYy9vV83XX8sVFaVOFw/j/Q0Aghah0A7oGwCECkKhHdE3AAh2dArtjb4BQBBjp+Aj9A0AghGh4GP0DQCCCaHQQegbAAQDOoWORN8AIMAF9WcfBaKWfB5TMH+eUijiM6IQ+vjso4BG3wAg0BAKAYC+AUCgoFMIFPQNAAIAO4UAw/sbAPgToRCg6BsA+AOhEODoGwB0JDqFYEDfAKCDsFMIIvQNAHyNUAhC9A0AfIVQCGL0DQDaG51CsKNvANCO2CmECPoGAO2BUAgx9A0A2oJQCFH0DQBag04hlNE3AGghdgphgL4BgLcIhTBC3wCgOYRCGKJvANAUOoVwRd8AoBHsFMIcfQOAHyIUIIm+AcBphAI80DcA4Y1OAQ3RNwBhi50CmkTfAIQfQgHNom8AwgehAK/RNwChj04BLUPfAIQ0dgpoFfoGIDQRCmgT+gYgtBAKaBf0DUBooFNA+6FvAIIeOwW0O/oGIHgRCvAZ+gYg+BAK8Dn6BiB40CmgY9A3AEGBnQI6FH0DENhcjuM43i392LeTIKzE91suSYrt01edLrtMUZ06S5K+K/tG3773rr775ht/jhcwTn2R7e8REFIGN7uCnQL8ir4BCCx0CvA/+gYgYLBTQMCgbwD8j1BAwOH9DYD/EAoIWPQNQMejU0Bgo28AOhQ7BQQF+gagYxAKCCr0DYBvEQoISvQNgG/QKSB40TcA7Y6dAoIefQPQfggFhAz6BqDtCAWEHPoGoPXoFBCa6BuAVmGngJBG3wC0DKGAsEDfAHiHUEBYoW8Azo5OAeGHvgFoEjsFhC36BqAhQgFhj74B+H+EAvA9+gaATgHwRN+AMMdOAWgEfQPCFaEAnAV9A8INoQB4gb4B4YJOAfAWfQPCADsFoIXoGxDKCAWglegbEIoIBaCN6BsQSugUgPZA34AQwU4BaEf0DQh2hALgA/QNCFaEAuBD9A0INnQKgK/RNyCIsFMAOgh9A4IBoQB0MPoGBDKX4ziOd0s/9u0kgJ/F91ve8SeNiFDCBRcqcehQRUTHSJKqSkr07Yfvy11Z2fHzBKlTX2T7e4QgMbjZFXQKgD/RNyDAcPkICAD0DQgUhAIQQOgb4G+EAhCAeH8D/IVOAQhU9A3wA3YKQICjb0BHIhSAIEHfgI5AKABBhr4BvkSnAAQj+gb4CDsFIIjRN6C9EQpACKBvQHshFIAQQt+AtqJTAEINfQPagJ0CEKLoG9AahAIQ4ugb0BKEAhAm6BvgDToFIJzQN6AZ7BSAMETfgKYQCkAYo2/AmQgFAPQNMHQKAE6jb4DYKQA4A31DeCMUADSKviE8EQoAzoq+IbzQKQBoHn1D2GCnAMBr9A2hj1AA0GL0DaGLUADQavQNoYdOAUDb0DeEFHYKANoFfUNoIBQAtCv6huBGKADwCfqG4ESnAMB36BuCDjsFAD5H3xA8CAUAHYa+IfARCgA6HH1D4HI5juN4t/Rj304CICjE91vervcXERdnfYPL5ZJTWxsSfcOpL7L9PUIjBje7gp0CAL+ibwgshAKAgEDfEBgIBQABhb7Bv3ifAoDAw/sb/IadAoCARd/Q8QgFAAGPvqHjEAoAggZ9g+/RKQAILvQNPsVOAUBQom/wDUIBQFCjb2hfhAKAkEDf0D7oFACEDvqGNmOnACDk0De0HqEAIGR52zc4LpfqLuypuitSVXdhTzkulx+n9i8uHwEIedVflqr60FdKuOBCJQ4dan1DVUmJynVUNTeNkLp2+v8blJ1U9NY3FPlusf+G9hN2CgDCw/d9Q9kL21R58BM5jiP3qFTV3DlOSk70XJuUqO8WXK26EeF3qYlQABBW6vuGsh0vq2zw9xdLzrxcFOGSHOm7WVeG3aUkQgFAWKrpESt3YlTDQKgX4ZK6dpL7gvM6djA/IxQAhKdzvXzvgrfrQgShACA8VVS277oQQSgACEsRRYelspOS22l8gduRyk6eXhdGCAUAYcnlOIre+obkUsNgcDuSS4re+oZcThOhEaIIBQBhK/LdYkU/ViCV/8fzG+X/UfRjBWH5PgXevAYgrEW+W6yI90pOv8ro3ASpolIRRYfDbodQj1AAEPZcjqPI//23v8cICFw+AgAYQgEAYAgFAIAhFAAAhlAAABhCAQBgCAUAgCEUAACGUAAAGEIBAGAIBQCAcTmOt5/69LFvJwEA+NjgZlewUwAAGEIBAGAIBQCAIRQAAIZQAAAYQgEAYAgFAIAhFAAAhlAAABhCAQBgCAUAgCEUAACGUAAAGEIBAGAIBQCAIRQAAIZQAAAYQgEAYAgFAIAhFAAAhlAAABhCAQBgCAUAgCEUAACGUAAAGEIBAGAIBQCAIRQAAIZQAAAYQgEAYAgFAIAhFAAAhlAAABhCAQBgCAUAgCEUAACGUAAAGEIBAGAIBQCAIRQAAIZQAAAYQgEAYAgFAIAhFAAAhlAAABhCAQBgCAUAgCEUAACGUAAAGEIBAGAIBQCAIRQAAIZQAAAYQgEAYAgFAIAhFAAAhlAAABhCAQBgCAUAgCEUAACGUAAAGEIBAGAIBQCAIRQAAIZQAAAYQgEAYAgFAIAhFAAAhlAAABhCAQBgCAUAgCEUAACGUAAAGEIBAGAIBQCAIRQAAIZQAAAYQgEAYAgFAIAhFAAAhlAAABhCAQBgCAUAgCEUAACGUAAAGEIBAGAIBQCAIRQAAIZQAAAYQgEAYAgFAIAhFAAAhlAAABhCAQBgCAUAgCEUAACGUAAAGEIBAGAIBQCAIRQAAIZQAAAYQgEAYAgFAIAhFAAAhlAAABhCAQBgCAUAgCEUAACGUAAAGEIBAGBcjuM4/h4CABAY2CkAAAyhAAAwhAIAwBAKAABDKAAADKEAADCEAgDAEAoAAEMoAADM/wFrZs6fMvAAtwAAAABJRU5ErkJggg==",
      "text/plain": [
       "<Figure size 640x480 with 1 Axes>"
      ]
     },
     "metadata": {},
     "output_type": "display_data"
    }
   ],
   "source": [
    "from app.path_finding.path_optimiser import raytrace\n",
    "\n",
    "p1 = (1, 2)\n",
    "p2 = (8, 6)\n",
    "\n",
    "matrix = np.zeros((10, 10))\n",
    "\n",
    "for (i, j) in raytrace(p1, p2):\n",
    "    matrix[j][i] = 1\n",
    "\n",
    "report.map.plot_raytrace(matrix, p1, p2)"
   ]
  },
  {
   "cell_type": "markdown",
   "id": "6e684f7c-1e87-4298-ad7e-3fd33f89b28b",
   "metadata": {},
   "source": [
    "Let's put this into practice using the path that we found previously."
   ]
  },
  {
   "cell_type": "code",
   "execution_count": null,
   "id": "5a91d176-ac3b-42e9-88c7-175818e8c808",
   "metadata": {},
   "outputs": [],
   "source": [
    "from app.path_finding.path_optimiser import PathOptimiser\n",
    "\n",
    "map = report.map.create_map(ctx)\n",
    "\n",
    "optimiser = PathOptimiser(map)\n",
    "\n",
    "# The output of the pathfinding algorithm is in physical space [cm],\n",
    "# it needs to be converted back into map indicies for this demonstration.\n",
    "# Usually the path optimisation is done as an intermediate step by the\n",
    "# path finding algorithm, before the conversion to physical space.\n",
    "path = report.map.path_to_coords(ctx.state.path)\n",
    "\n",
    "# The optimiser mutates the input list directly\n",
    "optimised_path = optimiser.optimise(path.copy())\n",
    "\n",
    "report.map.plot_path_optimisation(path, optimised_path, map)"
   ]
  },
  {
   "cell_type": "markdown",
   "id": "7c1ad1fd-2f4a-4207-b794-703dd6b9daa9",
   "metadata": {},
   "source": [
    "Path optimisation can be toggled dynamically by setting the `ctx.state.optimise` boolean flag."
   ]
  },
  {
   "cell_type": "code",
   "execution_count": null,
   "id": "fca233e2-1175-489f-96dc-6dee946cdac6",
   "metadata": {},
   "outputs": [],
   "source": [
    "# Enable path optimisation\n",
    "ctx.state.optimise = True\n",
    "\n",
    "# Reset the matrix\n",
    "ctx.state.obstacles[:,:] = 0\n",
    "\n",
    "# Add two obstacles\n",
    "ctx.state.obstacles[30:45, 40:55] = 1\n",
    "ctx.state.obstacles[20:30, 5: 20] = 1\n",
    "\n",
    "await global_nav._recompute_path()\n",
    "\n",
    "report.map.plot_map(ctx, \"Path-finding map\")"
   ]
  },
  {
   "cell_type": "markdown",
   "id": "f8eab67c",
   "metadata": {},
   "source": [
    "## <a id='toc1_6_'></a>[Big Brain](#toc0_)"
   ]
  },
  {
   "cell_type": "markdown",
   "id": "cfd658af",
   "metadata": {},
   "source": [
    "## <a id='toc1_7_'></a>[Motion control](#toc0_)"
   ]
  },
  {
   "cell_type": "code",
   "execution_count": null,
   "id": "a7717523",
   "metadata": {},
   "outputs": [],
   "source": [
    "from app.motion_control import MotionControl\n",
    "#creation of the filter\n",
    "control = MotionControl(ctx)"
   ]
  },
  {
   "cell_type": "code",
   "execution_count": null,
   "id": "97c97dc2",
   "metadata": {},
   "outputs": [],
   "source": [
    "control.setNewWaypoint(1)\n",
    "print(control.waypoint)"
   ]
  },
  {
   "cell_type": "code",
   "execution_count": null,
   "id": "235a5dbc",
   "metadata": {},
   "outputs": [],
   "source": [
    "controlWithDistance\n",
    "\n",
    "controlPosition"
   ]
  },
  {
   "cell_type": "markdown",
   "id": "8976982e",
   "metadata": {},
   "source": [
    "## <a id='toc1_8_'></a>[Local navigation](#toc0_)"
   ]
  },
  {
   "cell_type": "markdown",
   "id": "37df7b0a",
   "metadata": {},
   "source": [
    "## <a id='toc1_9_'></a>[Running the program as a whole](#toc0_)"
   ]
  },
  {
   "cell_type": "markdown",
   "id": "bf0736b7",
   "metadata": {},
   "source": [
    "now that we went through all the main modules we can run the app containing the project"
   ]
  },
  {
   "cell_type": "code",
   "execution_count": null,
   "id": "a20b3a6a",
   "metadata": {},
   "outputs": [],
   "source": [
    "!python -m app"
   ]
  },
  {
   "cell_type": "markdown",
   "id": "4c663c1a",
   "metadata": {},
   "source": []
  }
 ],
 "metadata": {
  "celltoolbar": "Tags",
  "kernelspec": {
   "display_name": "venv",
   "language": "python",
   "name": "python3"
  },
  "language_info": {
   "codemirror_mode": {
    "name": "ipython",
    "version": 3
   },
   "file_extension": ".py",
   "mimetype": "text/x-python",
   "name": "python",
   "nbconvert_exporter": "python",
   "pygments_lexer": "ipython3",
<<<<<<< HEAD
   "version": "3.10.8 (tags/v3.10.8:aaaf517, Oct 11 2022, 16:50:30) [MSC v.1933 64 bit (AMD64)]"
  },
  "vscode": {
   "interpreter": {
    "hash": "e01654cf1ebb2569f09f74b92ca5a20a8fc1f8e598a14960a4e3bad5fb1cbedd"
=======
   "version": "3.10.4 (tags/v3.10.4:9d38120, Mar 23 2022, 23:13:41) [MSC v.1929 64 bit (AMD64)]"
  },
  "vscode": {
   "interpreter": {
    "hash": "7b97a24aec6f8def2674d93ea2437cb3728843830cb7d5b7fbd0461f275e8bc7"
>>>>>>> origin/main
   }
  }
 },
 "nbformat": 4,
 "nbformat_minor": 5
}
