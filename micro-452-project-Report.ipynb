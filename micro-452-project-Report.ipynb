{
 "cells": [
  {
   "cell_type": "markdown",
   "id": "d38ad9a1",
   "metadata": {},
   "source": [
    "# <a id='toc1_'></a>[Mobile Robotics Project Report](#toc0_)\n",
    "\n",
    "---\n",
    "Marcus Cemes, Pable Paller, Adrien Pannatier,  Carolina Rodrigues Fidalgo"
   ]
  },
  {
   "cell_type": "markdown",
   "id": "65a741a9",
   "metadata": {},
   "source": [
    "\n",
    "<div style=\"border:1px solid black; padding:20px 20px;text-align: justify;text-justify: inter-word\">\n",
    "    This notebook describes the different parts of our project for the course micro-452: Basics of mobile robotics.<br/>\n",
    "    In the following cells we will describe how the modules work and give a structure to run the project.\n",
    "</div>"
   ]
  },
  {
   "cell_type": "markdown",
   "id": "f91923f5",
   "metadata": {},
   "source": [
    "**Table of contents**<a id='toc0_'></a>    \n",
    "- [Mobile Robotics Project Report](#toc1_)    \n",
    "  - [Run requirements](#toc1_1_)    \n",
    "  - [Add the modules to path](#toc1_2_)    \n",
    "  - [Vision](#toc1_3_)    \n",
    "  - [Filtering](#toc1_4_)    \n",
    "    - [Prediction](#toc1_4_1_)    \n",
    "    - [Update](#toc1_4_2_)    \n",
    "  - [Global navigation](#toc1_5_)    \n",
    "  - [Big Brain](#toc1_6_)    \n",
    "  - [Motion control](#toc1_7_)    \n",
    "  - [Local navigation](#toc1_8_)    \n",
    "  - [Running the program as a whole](#toc1_9_)    \n",
    "\n",
    "<!-- vscode-jupyter-toc-config\n",
    "\tnumbering=false\n",
    "\tanchor=true\n",
    "\tflat=false\n",
    "\tminLevel=1\n",
    "\tmaxLevel=6\n",
    "\t/vscode-jupyter-toc-config -->\n",
    "<!-- THIS CELL WILL BE REPLACED ON TOC UPDATE. DO NOT WRITE YOUR TEXT IN THIS CELL -->"
   ]
  },
  {
   "cell_type": "markdown",
   "id": "816f8151",
   "metadata": {},
   "source": [
    "## <a id='toc1_1_'></a>[Run requirements](#toc0_)"
   ]
  },
  {
   "attachments": {},
   "cell_type": "markdown",
   "id": "a2ed8216",
   "metadata": {},
   "source": [
    "All instructions to run the project are to be found in the [readme](README.md)\n"
   ]
  },
  {
   "cell_type": "markdown",
   "id": "4456d199",
   "metadata": {},
   "source": [
    "## <a id='toc1_2_'></a>[Add the modules to path](#toc0_)\n",
    "\n",
    "The following trickery adds our Python module to the Jupyter environment."
   ]
  },
  {
   "cell_type": "code",
   "execution_count": 27,
   "id": "92df5d13-08df-49fe-90dd-3e0485a0fead",
   "metadata": {},
   "outputs": [],
   "source": [
    "from sys import path\n",
    "path.append(\"./app\")"
   ]
  },
  {
   "attachments": {},
   "cell_type": "markdown",
   "id": "baa8a325-c975-4893-8385-2b0f95ebf97e",
   "metadata": {},
   "source": [
    "One of the main structures of our project is the context. Created to be shared between the modules, the context holds the following data:<br/>\n",
    "\n",
    "<span style=\"text-decoration:underline;font-weight:bold;\">[Context Class](app/context.py)</span>\n",
    "- <strong>node</strong>: node of the main thymio\n",
    "- <strong>node_top</strong>: node of the top thymio\n",
    "- <strong>pool</strong>: necessary part to allow multiple threading in python\n",
    "- <strong>state</strong>: state containing all the necessary elements to describe the scene\n",
    "- <strong>scene_update</strong>: signaling of scene update from vision\n",
    "- <strong>pose_update</strong>: signaling position update from filtering\n",
    "- <strong>debug_update</strong>: boolean to allow debugging vision display in the ui"
   ]
  },
  {
   "attachments": {},
   "cell_type": "markdown",
   "id": "904c0a34",
   "metadata": {},
   "source": [
    "Let us create this context"
   ]
  },
  {
   "cell_type": "code",
   "execution_count": 5,
   "id": "288a034d-dd0d-45b4-a5e7-3015ca4f4f9d",
   "metadata": {},
   "outputs": [],
   "source": [
    "from app.context import Context\n",
    "from app.state import State\n",
    "\n",
    "ctx = Context(node=None, node_top=None, pool=None, state=State())"
   ]
  },
  {
   "attachments": {},
   "cell_type": "markdown",
   "id": "eb5a5f29",
   "metadata": {},
   "source": [
    "The [State Class](app/state.py) holds the necessary information on the thymio to allow the correct progression of the robot.</br>\n",
    "State also contains the elements needed by the ui interface to display the scene. "
   ]
  },
  {
   "cell_type": "markdown",
   "id": "a6e670b5",
   "metadata": {},
   "source": [
    "We can now import modules and show how they work!"
   ]
  },
  {
   "cell_type": "markdown",
   "id": "663d573b",
   "metadata": {},
   "source": [
    "## <a id='toc1_3_'></a>[Vision](#toc0_)"
   ]
  },
  {
   "cell_type": "code",
   "execution_count": 14,
   "id": "5ffaf769",
   "metadata": {},
   "outputs": [],
   "source": [
    "from app.vision import Vision\n",
    "vision = Vision(ctx, external=False, live=False, image_path=\"assets/test_frame_01.jpg\")"
   ]
  },
  {
   "cell_type": "code",
   "execution_count": 19,
   "id": "62b2dcb0",
   "metadata": {},
   "outputs": [],
   "source": [
    "from app.utils.types import Vec2\n",
    "import math\n",
    "\n",
    "def angle(p1: Vec2, p2: Vec2) -> float:\n",
    "    \"\"\"Returns the angle of the vector between two points in radians.\"\"\"\n",
    "\n",
    "    return math.atan2(p2[1]-p1[1], p2[0]-p1[0])"
   ]
  },
  {
   "cell_type": "code",
   "execution_count": 11,
   "id": "bc89670d",
   "metadata": {},
   "outputs": [
    {
     "data": {
      "text/html": [
       "<pre style=\"white-space:pre;overflow-x:auto;line-height:normal;font-family:Menlo,'DejaVu Sans Mono',consolas,'Courier New',monospace\"><span style=\"color: #008000; text-decoration-color: #008000\"> INFO     </span>  A GUI window will open to calibrate the vision system\n",
       "</pre>\n"
      ],
      "text/plain": [
       "\u001b[32m INFO     \u001b[0m  A GUI window will open to calibrate the vision system\n"
      ]
     },
     "metadata": {},
     "output_type": "display_data"
    },
    {
     "data": {
      "text/html": [
       "<pre style=\"white-space:pre;overflow-x:auto;line-height:normal;font-family:Menlo,'DejaVu Sans Mono',consolas,'Courier New',monospace\"><span style=\"color: #008000; text-decoration-color: #008000\"> INFO     </span>  Select <span style=\"color: #008080; text-decoration-color: #008080; font-weight: bold\">4</span> points to correct perspective <span style=\"font-weight: bold\">(</span>TL, TR, BR, BL<span style=\"font-weight: bold\">)</span>\n",
       "</pre>\n"
      ],
      "text/plain": [
       "\u001b[32m INFO     \u001b[0m  Select \u001b[1;36m4\u001b[0m points to correct perspective \u001b[1m(\u001b[0mTL, TR, BR, BL\u001b[1m)\u001b[0m\n"
      ]
     },
     "metadata": {},
     "output_type": "display_data"
    },
    {
     "data": {
      "text/html": [
       "<pre style=\"white-space:pre;overflow-x:auto;line-height:normal;font-family:Menlo,'DejaVu Sans Mono',consolas,'Courier New',monospace\"><span style=\"color: #008000; text-decoration-color: #008000\"> INFO     </span>  Then select the back landmark, then the front landmark\n",
       "</pre>\n"
      ],
      "text/plain": [
       "\u001b[32m INFO     \u001b[0m  Then select the back landmark, then the front landmark\n"
      ]
     },
     "metadata": {},
     "output_type": "display_data"
    },
    {
     "data": {
      "text/html": [
       "<pre style=\"white-space:pre;overflow-x:auto;line-height:normal;font-family:Menlo,'DejaVu Sans Mono',consolas,'Courier New',monospace\"><span style=\"color: #008000; text-decoration-color: #008000\"> INFO     </span>  Press N to take a new frame, or Q to exit\n",
       "</pre>\n"
      ],
      "text/plain": [
       "\u001b[32m INFO     \u001b[0m  Press N to take a new frame, or Q to exit\n"
      ]
     },
     "metadata": {},
     "output_type": "display_data"
    },
    {
     "data": {
      "text/html": [
       "<pre style=\"white-space:pre;overflow-x:auto;line-height:normal;font-family:Menlo,'DejaVu Sans Mono',consolas,'Courier New',monospace\"><span style=\"color: #af00ff; text-decoration-color: #af00ff\"> DEBUG    </span>  Source points: <span style=\"font-weight: bold\">[[</span><span style=\"color: #008080; text-decoration-color: #008080; font-weight: bold\">515</span> <span style=\"color: #008080; text-decoration-color: #008080; font-weight: bold\">457</span><span style=\"font-weight: bold\">]</span>\n",
       " <span style=\"font-weight: bold\">[</span> <span style=\"color: #008080; text-decoration-color: #008080; font-weight: bold\">82</span> <span style=\"color: #008080; text-decoration-color: #008080; font-weight: bold\">452</span><span style=\"font-weight: bold\">]</span>\n",
       " <span style=\"font-weight: bold\">[</span> <span style=\"color: #008080; text-decoration-color: #008080; font-weight: bold\">90</span>  <span style=\"color: #008080; text-decoration-color: #008080; font-weight: bold\">21</span><span style=\"font-weight: bold\">]</span>\n",
       " <span style=\"font-weight: bold\">[</span><span style=\"color: #008080; text-decoration-color: #008080; font-weight: bold\">518</span>  <span style=\"color: #008080; text-decoration-color: #008080; font-weight: bold\">17</span><span style=\"font-weight: bold\">]]</span>\n",
       "</pre>\n"
      ],
      "text/plain": [
       "\u001b[38;5;129m DEBUG    \u001b[0m  Source points: \u001b[1m[\u001b[0m\u001b[1m[\u001b[0m\u001b[1;36m515\u001b[0m \u001b[1;36m457\u001b[0m\u001b[1m]\u001b[0m\n",
       " \u001b[1m[\u001b[0m \u001b[1;36m82\u001b[0m \u001b[1;36m452\u001b[0m\u001b[1m]\u001b[0m\n",
       " \u001b[1m[\u001b[0m \u001b[1;36m90\u001b[0m  \u001b[1;36m21\u001b[0m\u001b[1m]\u001b[0m\n",
       " \u001b[1m[\u001b[0m\u001b[1;36m518\u001b[0m  \u001b[1;36m17\u001b[0m\u001b[1m]\u001b[0m\u001b[1m]\u001b[0m\n"
      ]
     },
     "metadata": {},
     "output_type": "display_data"
    },
    {
     "data": {
      "text/html": [
       "<pre style=\"white-space:pre;overflow-x:auto;line-height:normal;font-family:Menlo,'DejaVu Sans Mono',consolas,'Courier New',monospace\"><span style=\"color: #008000; text-decoration-color: #008000\"> INFO     </span>  Calibration complete!\n",
       "</pre>\n"
      ],
      "text/plain": [
       "\u001b[32m INFO     \u001b[0m  Calibration complete!\n"
      ]
     },
     "metadata": {},
     "output_type": "display_data"
    }
   ],
   "source": [
    "vision.calibrate()"
   ]
  },
  {
   "cell_type": "code",
   "execution_count": 13,
   "id": "498a15ef",
   "metadata": {},
   "outputs": [],
   "source": [
    "obs = vision.next()"
   ]
  },
  {
   "cell_type": "code",
   "execution_count": 21,
   "id": "2938f9fa",
   "metadata": {},
   "outputs": [
    {
     "name": "stdout",
     "output_type": "stream",
     "text": [
      "(85.6551724137931, 38.48275862068965, 2.279422598922566)\n"
     ]
    }
   ],
   "source": [
    "vision_pose = (obs.back[0], obs.back[1], angle(obs.back, obs.front))\n",
    "print(vision_pose)"
   ]
  },
  {
   "cell_type": "markdown",
   "id": "f528a8e8",
   "metadata": {},
   "source": [
    "## <a id='toc1_4_'></a>[Filtering](#toc0_)"
   ]
  },
  {
   "cell_type": "code",
   "execution_count": 28,
   "id": "a783d006-43b1-41db-9b4d-cea07e80d151",
   "metadata": {},
   "outputs": [],
   "source": [
    "from app.filtering import Filtering\n",
    "sposition = (0.0, 0.0)\n",
    "sorientation = 0.0\n",
    "#creation of the filter\n",
    "filtering = Filtering(ctx)"
   ]
  },
  {
   "cell_type": "code",
   "execution_count": 29,
   "id": "6c242ced",
   "metadata": {},
   "outputs": [],
   "source": [
    "\n",
    "def stop_movement_simulation():\n",
    "    filtering.process_event({\"motor.left.speed\": [0], \"motor.right.speed\": [0]})"
   ]
  },
  {
   "cell_type": "code",
   "execution_count": 30,
   "id": "66a232b9-a5bc-48a2-b45e-d6fdb8503fb9",
   "metadata": {},
   "outputs": [],
   "source": [
    "def print_pose():\n",
    "    global sposition, sorientation\n",
    "    sposition = ctx.state.position\n",
    "    sorientation = ctx.state.orientation\n",
    "    print(f\"position of the thymio: {sposition}\")\n",
    "    print(f\"orientation: {sorientation}\")"
   ]
  },
  {
   "cell_type": "markdown",
   "id": "8df9ac02",
   "metadata": {},
   "source": [
    "### <a id='toc1_4_1_'></a>[Prediction](#toc0_)"
   ]
  },
  {
   "cell_type": "code",
   "execution_count": 33,
   "id": "52c6a91d",
   "metadata": {},
   "outputs": [],
   "source": [
    "stop_movement_simulation()"
   ]
  },
  {
   "cell_type": "markdown",
   "id": "64eea28e-738a-4ad9-9c3f-c5c355245e14",
   "metadata": {},
   "source": [
    "Let's take a look at our current position."
   ]
  },
  {
   "cell_type": "code",
   "execution_count": 34,
   "id": "17073ea1",
   "metadata": {},
   "outputs": [
    {
     "name": "stdout",
     "output_type": "stream",
     "text": [
      "position of the thymio: (60.0, 60.0)\n",
      "orientation: -3.141592566167013\n"
     ]
    }
   ],
   "source": [
    "print_pose()"
   ]
  },
  {
   "cell_type": "markdown",
   "id": "b1e8ca65-a9b1-4899-a710-2d010667779a",
   "metadata": {},
   "source": [
    "To execute a filtering step:"
   ]
  },
  {
   "cell_type": "code",
   "execution_count": 35,
   "id": "7764f84c-156b-4b85-ae62-e9dec4ff37e9",
   "metadata": {},
   "outputs": [],
   "source": [
    "filtering.process_event({\"motor.left.speed\": [50], \"motor.right.speed\": [50]})"
   ]
  },
  {
   "cell_type": "markdown",
   "id": "37ca19d6-98c8-48a9-9395-84acfb11daf6",
   "metadata": {},
   "source": [
    "The state should now be updated?"
   ]
  },
  {
   "cell_type": "code",
   "execution_count": 36,
   "id": "c973de18-b444-4774-ac4e-f7f84117f772",
   "metadata": {},
   "outputs": [
    {
     "name": "stdout",
     "output_type": "stream",
     "text": [
      "position of the thymio: (42.5831684589386, 59.99999847737207)\n",
      "orientation: -3.141592566167013\n"
     ]
    }
   ],
   "source": [
    "print_pose()\n",
    "stop_movement_simulation()"
   ]
  },
  {
   "attachments": {},
   "cell_type": "markdown",
   "id": "4f19687a",
   "metadata": {},
   "source": [
    "Let's do it again turning the robot"
   ]
  },
  {
   "cell_type": "code",
   "execution_count": 37,
   "id": "8c5ccfa1",
   "metadata": {},
   "outputs": [
    {
     "name": "stdout",
     "output_type": "stream",
     "text": [
      "position of the thymio: (42.5831684589386, 59.99999847737207)\n",
      "orientation: 0.7860276899839702\n"
     ]
    }
   ],
   "source": [
    "filtering.process_event({\"motor.left.speed\": [50], \"motor.right.speed\": [-50]})\n",
    "print_pose()\n",
    "stop_movement_simulation()"
   ]
  },
  {
   "attachments": {},
   "cell_type": "markdown",
   "id": "64d77519",
   "metadata": {},
   "source": [
    "we see that filtering is correctly predicting the progression of the simulated robot"
   ]
  },
  {
   "cell_type": "markdown",
   "id": "ccabfc0f",
   "metadata": {},
   "source": [
    "### <a id='toc1_4_2_'></a>[Update](#toc0_)"
   ]
  },
  {
   "attachments": {},
   "cell_type": "markdown",
   "id": "0c5211d6",
   "metadata": {},
   "source": [
    "now to display the update function, we use the image and position of the robot given by the [Vision module](#toc1_3_)   "
   ]
  },
  {
   "attachments": {},
   "cell_type": "markdown",
   "id": "a2208520",
   "metadata": {},
   "source": [
    "The position after our prediction step is:"
   ]
  },
  {
   "cell_type": "code",
   "execution_count": 38,
   "id": "155ea781",
   "metadata": {},
   "outputs": [
    {
     "name": "stdout",
     "output_type": "stream",
     "text": [
      "position of the thymio: (42.5831684589386, 59.99999847737207)\n",
      "orientation: 0.7860276899839702\n"
     ]
    }
   ],
   "source": [
    "print_pose()"
   ]
  },
  {
   "attachments": {},
   "cell_type": "markdown",
   "id": "12e43b13",
   "metadata": {},
   "source": [
    "now we update the position with the one given by vision"
   ]
  },
  {
   "cell_type": "code",
   "execution_count": 39,
   "id": "bea0726a",
   "metadata": {},
   "outputs": [],
   "source": [
    "vision_position = vision #get image from vision\n",
    "filtering.update(vision_pose)"
   ]
  },
  {
   "attachments": {},
   "cell_type": "markdown",
   "id": "fb21370f",
   "metadata": {},
   "source": [
    "after the vision update, the new position is:"
   ]
  },
  {
   "cell_type": "code",
   "execution_count": 40,
   "id": "b098a5b0",
   "metadata": {},
   "outputs": [
    {
     "name": "stdout",
     "output_type": "stream",
     "text": [
      "position of the thymio: (85.04852446214403, 38.782506822759096)\n",
      "orientation: 2.274089195324841\n"
     ]
    }
   ],
   "source": [
    "print_pose()"
   ]
  },
  {
   "cell_type": "markdown",
   "id": "edd6cf89",
   "metadata": {},
   "source": [
    "## <a id='toc1_5_'></a>[Global navigation](#toc0_)"
   ]
  },
  {
   "cell_type": "markdown",
   "id": "f8eab67c",
   "metadata": {},
   "source": [
    "## <a id='toc1_6_'></a>[Big Brain](#toc0_)"
   ]
  },
  {
   "cell_type": "markdown",
   "id": "cfd658af",
   "metadata": {},
   "source": [
    "## <a id='toc1_7_'></a>[Motion control](#toc0_)"
   ]
  },
  {
   "cell_type": "markdown",
   "id": "8976982e",
   "metadata": {},
   "source": [
    "## <a id='toc1_8_'></a>[Local navigation](#toc0_)"
   ]
  },
  {
   "cell_type": "markdown",
   "id": "37df7b0a",
   "metadata": {},
   "source": [
    "## <a id='toc1_9_'></a>[Running the program as a whole](#toc0_)"
   ]
  },
  {
   "attachments": {},
   "cell_type": "markdown",
   "id": "bf0736b7",
   "metadata": {},
   "source": [
    "now that we went through all the main modules we can run the app containing the project"
   ]
  },
  {
   "cell_type": "code",
   "execution_count": 1,
   "id": "a20b3a6a",
   "metadata": {},
   "outputs": [
    {
     "name": "stdout",
     "output_type": "stream",
     "text": [
      "^C\n"
     ]
    }
   ],
   "source": [
    "!python -m app"
   ]
  },
  {
   "cell_type": "markdown",
   "id": "4c663c1a",
   "metadata": {},
   "source": []
  }
 ],
 "metadata": {
  "celltoolbar": "Tags",
  "kernelspec": {
   "display_name": "Python 3",
   "language": "python",
   "name": "python3"
  },
  "language_info": {
   "codemirror_mode": {
    "name": "ipython",
    "version": 3
   },
   "file_extension": ".py",
   "mimetype": "text/x-python",
   "name": "python",
   "nbconvert_exporter": "python",
   "pygments_lexer": "ipython3",
   "version": "3.11.0"
  },
  "vscode": {
   "interpreter": {
    "hash": "c261aea317cc0286b3b3261fbba9abdec21eaa57589985bb7a274bf54d6cc0a7"
   }
  }
 },
 "nbformat": 4,
 "nbformat_minor": 5
}
